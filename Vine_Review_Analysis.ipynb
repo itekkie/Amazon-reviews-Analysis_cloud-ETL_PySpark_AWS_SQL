{
  "nbformat": 4,
  "nbformat_minor": 0,
  "metadata": {
    "colab": {
      "name": "Vine_Review_Analysis.ipynb",
      "provenance": [],
      "collapsed_sections": [],
      "include_colab_link": true
    },
    "kernelspec": {
      "name": "python3",
      "display_name": "Python 3"
    },
    "nteract": {
      "version": "0.12.3"
    },
    "language_info": {
      "name": "python"
    }
  },
  "cells": [
    {
      "cell_type": "markdown",
      "metadata": {
        "id": "view-in-github",
        "colab_type": "text"
      },
      "source": [
        "<a href=\"https://colab.research.google.com/github/itekkie/Amazon_Vine_Analysis/blob/main/Vine_Review_Analysis.ipynb\" target=\"_parent\"><img src=\"https://colab.research.google.com/assets/colab-badge.svg\" alt=\"Open In Colab\"/></a>"
      ]
    },
    {
      "cell_type": "code",
      "metadata": {
        "id": "V58rxea0HqSa",
        "colab": {
          "base_uri": "https://localhost:8080/"
        },
        "outputId": "3a69cebb-854b-459f-d3bb-9011b9fc1b41"
      },
      "source": [
        "import os\n",
        "# Find the latest version of spark 3.0 from http://www.apache.org/dist/spark/ and enter as the spark version\n",
        "# For example:\n",
        "# spark_version = 'spark-3.0.3'\n",
        "spark_version = 'spark-3.0.3'\n",
        "os.environ['SPARK_VERSION']=spark_version\n",
        "\n",
        "# Install Spark and Java\n",
        "!apt-get update\n",
        "!apt-get install openjdk-11-jdk-headless -qq > /dev/null\n",
        "!wget -q http://www.apache.org/dist/spark/$SPARK_VERSION/$SPARK_VERSION-bin-hadoop2.7.tgz\n",
        "!tar xf $SPARK_VERSION-bin-hadoop2.7.tgz\n",
        "!pip install -q findspark\n",
        "\n",
        "# Set Environment Variables\n",
        "import os\n",
        "os.environ[\"JAVA_HOME\"] = \"/usr/lib/jvm/java-11-openjdk-amd64\"\n",
        "os.environ[\"SPARK_HOME\"] = f\"/content/{spark_version}-bin-hadoop2.7\"\n",
        "\n",
        "# Start a SparkSession\n",
        "import findspark\n",
        "findspark.init()"
      ],
      "execution_count": 1,
      "outputs": [
        {
          "output_type": "stream",
          "name": "stdout",
          "text": [
            "\r0% [Working]\r            \rIgn:1 https://developer.download.nvidia.com/compute/cuda/repos/ubuntu1804/x86_64  InRelease\n",
            "\r0% [Connecting to archive.ubuntu.com] [Connecting to security.ubuntu.com] [Conn\r                                                                               \rIgn:2 https://developer.download.nvidia.com/compute/machine-learning/repos/ubuntu1804/x86_64  InRelease\n",
            "\r0% [Connecting to archive.ubuntu.com] [Connecting to security.ubuntu.com (91.18\r                                                                               \rHit:3 https://developer.download.nvidia.com/compute/cuda/repos/ubuntu1804/x86_64  Release\n",
            "Hit:4 https://developer.download.nvidia.com/compute/machine-learning/repos/ubuntu1804/x86_64  Release\n",
            "Get:5 https://cloud.r-project.org/bin/linux/ubuntu bionic-cran40/ InRelease [3,626 B]\n",
            "Get:6 http://security.ubuntu.com/ubuntu bionic-security InRelease [88.7 kB]\n",
            "Hit:7 http://ppa.launchpad.net/c2d4u.team/c2d4u4.0+/ubuntu bionic InRelease\n",
            "Hit:9 http://archive.ubuntu.com/ubuntu bionic InRelease\n",
            "Hit:10 http://ppa.launchpad.net/cran/libgit2/ubuntu bionic InRelease\n",
            "Get:11 http://archive.ubuntu.com/ubuntu bionic-updates InRelease [88.7 kB]\n",
            "Get:13 https://cloud.r-project.org/bin/linux/ubuntu bionic-cran40/ Packages [69.5 kB]\n",
            "Hit:14 http://ppa.launchpad.net/deadsnakes/ppa/ubuntu bionic InRelease\n",
            "Get:15 http://archive.ubuntu.com/ubuntu bionic-backports InRelease [74.6 kB]\n",
            "Hit:16 http://ppa.launchpad.net/graphics-drivers/ppa/ubuntu bionic InRelease\n",
            "Get:17 http://security.ubuntu.com/ubuntu bionic-security/restricted amd64 Packages [607 kB]\n",
            "Get:18 http://security.ubuntu.com/ubuntu bionic-security/universe amd64 Packages [1,431 kB]\n",
            "Get:19 http://security.ubuntu.com/ubuntu bionic-security/main amd64 Packages [2,367 kB]\n",
            "Get:20 http://archive.ubuntu.com/ubuntu bionic-updates/universe amd64 Packages [2,210 kB]\n",
            "Get:21 http://archive.ubuntu.com/ubuntu bionic-updates/restricted amd64 Packages [640 kB]\n",
            "Get:22 http://archive.ubuntu.com/ubuntu bionic-updates/main amd64 Packages [2,803 kB]\n",
            "Fetched 10.4 MB in 3s (3,024 kB/s)\n",
            "Reading package lists... Done\n"
          ]
        }
      ]
    },
    {
      "cell_type": "code",
      "metadata": {
        "id": "MMqDAjVS0KN9"
      },
      "source": [
        "# Start Spark session\n",
        "from pyspark.sql import SparkSession\n",
        "spark = SparkSession.builder.appName(\"M16-Vine_Review_Analysis\").getOrCreate()"
      ],
      "execution_count": 2,
      "outputs": []
    },
    {
      "cell_type": "markdown",
      "metadata": {
        "id": "cyBsySGuY-9V"
      },
      "source": [
        "### Load Amazon Data into Spark DataFrame"
      ]
    },
    {
      "cell_type": "code",
      "metadata": {
        "id": "CtCmBhQJY-9Z",
        "colab": {
          "base_uri": "https://localhost:8080/"
        },
        "outputId": "e128fd12-75d0-4091-f325-43e732cb0b76"
      },
      "source": [
        "from pyspark import SparkFiles\n",
        "url = \"https://s3.amazonaws.com/amazon-reviews-pds/tsv/amazon_reviews_multilingual_FR_v1_00.tsv.gz\"\n",
        "spark.sparkContext.addFile(url)\n",
        "df = spark.read.option(\"encoding\", \"UTF-8\").csv(SparkFiles.get(\"\"), sep=\"\\t\", header=True, inferSchema=True)\n",
        "df.show()"
      ],
      "execution_count": 3,
      "outputs": [
        {
          "output_type": "stream",
          "name": "stdout",
          "text": [
            "+-----------+-----------+--------------+----------+--------------+--------------------+--------------------+-----------+-------------+-----------+----+-----------------+--------------------+--------------------+-----------+\n",
            "|marketplace|customer_id|     review_id|product_id|product_parent|       product_title|    product_category|star_rating|helpful_votes|total_votes|vine|verified_purchase|     review_headline|         review_body|review_date|\n",
            "+-----------+-----------+--------------+----------+--------------+--------------------+--------------------+-----------+-------------+-----------+----+-----------------+--------------------+--------------------+-----------+\n",
            "|         FR|      14952|R32VYUWDIB5LKE|0552774294|     362925721|    The God Delusion|               Books|          5|            0|          0|   N|                Y|a propos de ce livre|je conseille fort...| 2013-02-13|\n",
            "|         FR|      14952|R3CCMP4EV6HAVL|B004GJXQ20|     268067011|A Game of Thrones...|Digital_Ebook_Pur...|          5|            0|          0|   N|                Y|                 wow|ce magnifique est...| 2014-08-03|\n",
            "|         FR|      17564|R14NAE6UGTVTA2|B00GIGGS6A|     256731097|      Huion H610 PRO|                  PC|          3|            1|          3|   N|                Y|      Ca fait le job|Je dirais qu'il a...| 2015-07-07|\n",
            "|         FR|      18940|R2E7QEWSC6EWFA|B00CW7KK9K|     977480037|Withings Pulse - ...|              Sports|          4|            0|          1|   N|                Y|Fidele a description|Je l'ai depuis qu...| 2014-06-16|\n",
            "|         FR|      20315|R26E6I47GQRYKR|B002L6SKIK|     827187473|          Prometheus|           Video DVD|          2|            3|          5|   N|                N|            décevant|je m'attendait à ...| 2013-06-10|\n",
            "|         FR|      20842|R1RJMTSNCKB9LP|B00004YLIU|     678427290|               Kid A|               Music|          2|            0|          0|   N|                Y|                 10'|Ne disait pas sur...| 2013-04-15|\n",
            "|         FR|      20913|R2P2XF84YELQBZ|B00AYHK7RU|     108403123|        The Next Day|               Music|          5|            0|          3|   N|                Y|        the next day|du bon bowie,tr&e...| 2013-06-07|\n",
            "|         FR|      21490| RJKULSX2Y5R07|B00CJ3V5UK|     252503117|G.I. Joe 2 : Cons...|           Video DVD|          5|            0|          0|   N|                Y|       tres bon film|très bon film bea...| 2014-11-07|\n",
            "|         FR|      24196|R3UYE0U7SQCI8Q|B000FUM0TE|      48021829|             Amistad|           Video DVD|          5|            2|          3|   N|                Y|           Excellent|Un sujet délicat ...| 2012-11-16|\n",
            "|         FR|      24196|R1TKJ7XFS3RDEB|B000UMXCTY|     181554537|The Collection (C...|               Music|          5|            0|          1|   N|                Y|       C'est parfait|Un coffret d'un d...| 2013-04-23|\n",
            "|         FR|      24196|R3S9JNS21QDBXP|B0044JV1K6|     386772628|Braddock - Missin...|           Video DVD|          5|            0|          2|   N|                Y|    Excellent achat.|Un grand classiqu...| 2013-08-02|\n",
            "|         FR|      24196|R2Y4O06QMOGHD0|2226249672|     753674225|Au revoir là-haut...|               Books|          5|            2|          3|   N|                Y|     Excellent achat|Livre offert pour...| 2013-10-03|\n",
            "|         FR|      24196|R3PS3P7G1ZT57W|B000A3IF8G|     757843869|The Essential Mic...|               Music|          5|            0|          0|   N|                Y|     Excellent achat|Un artiste inoubl...| 2014-08-21|\n",
            "|         FR|      24207|R1NFWFM2WWRWPM|B00B4VI8MQ|     351620851|Epic Adventures: ...|         Mobile_Apps|          5|            0|          0|   N|                Y|                jeux|Trop cool ce jeux...| 2014-01-31|\n",
            "|         FR|      24207|R3QRIH5CXCXMEL|B00CW6DAKC|      87169065|    Super Ferme Mini|         Mobile_Apps|          4|            4|          6|   N|                Y|             ajouter|Ajouter moi &agra...| 2014-07-29|\n",
            "|         FR|      24629| RBCSM1KTYH6FX|B0031ES8P6|     724566333|Ty - Ty40819 - Pe...|                Toys|          4|            0|          0|   N|                Y|           Très bien|Bonne idée de cad...| 2014-01-13|\n",
            "|         FR|      24844|R2BIWHFIS7X808|B007AR7OGE|     414300413|First lady of son...|               Music|          5|            3|          4|   N|                Y|               Great|Just great compli...| 2012-12-17|\n",
            "|         FR|      25935|R2VGNSD09UEW5T|B00XO12REY|     271191040|  The Monsanto Years|               Music|          1|            1|          9|   N|                Y|commentaire sur M...|Pas beaucoup de s...| 2015-07-21|\n",
            "|         FR|      26425| RTGC85CCO9EMU|B007ZMHBBM|     893659638|Checkerboard Loun...|           Video DVD|          5|            0|          0|   N|                Y|        Muddy Waters|Superbe session e...| 2012-11-22|\n",
            "|         FR|      26552|R128Q27ZKTLGJ1|0446310786|     994527755|To Kill a Mocking...|               Books|          5|            0|          0|   N|                Y|          Beautiful!|I know it's a cla...| 2015-01-19|\n",
            "+-----------+-----------+--------------+----------+--------------+--------------------+--------------------+-----------+-------------+-----------+----+-----------------+--------------------+--------------------+-----------+\n",
            "only showing top 20 rows\n",
            "\n"
          ]
        }
      ]
    },
    {
      "cell_type": "markdown",
      "metadata": {
        "id": "2yUSe55VY-9t"
      },
      "source": [
        "### Create vine_df"
      ]
    },
    {
      "cell_type": "code",
      "metadata": {
        "id": "lzMmkdKmY--D",
        "colab": {
          "base_uri": "https://localhost:8080/"
        },
        "outputId": "3ce13f67-0b62-45d9-e821-9adcc17540fe"
      },
      "source": [
        "# Create the vine_table. DataFrame\n",
        "vine_df = df.select([\"review_id\",\"star_rating\", \"helpful_votes\", \"total_votes\", \"vine\", \"verified_purchase\"])\n",
        "vine_df.show()"
      ],
      "execution_count": 4,
      "outputs": [
        {
          "output_type": "stream",
          "name": "stdout",
          "text": [
            "+--------------+-----------+-------------+-----------+----+-----------------+\n",
            "|     review_id|star_rating|helpful_votes|total_votes|vine|verified_purchase|\n",
            "+--------------+-----------+-------------+-----------+----+-----------------+\n",
            "|R32VYUWDIB5LKE|          5|            0|          0|   N|                Y|\n",
            "|R3CCMP4EV6HAVL|          5|            0|          0|   N|                Y|\n",
            "|R14NAE6UGTVTA2|          3|            1|          3|   N|                Y|\n",
            "|R2E7QEWSC6EWFA|          4|            0|          1|   N|                Y|\n",
            "|R26E6I47GQRYKR|          2|            3|          5|   N|                N|\n",
            "|R1RJMTSNCKB9LP|          2|            0|          0|   N|                Y|\n",
            "|R2P2XF84YELQBZ|          5|            0|          3|   N|                Y|\n",
            "| RJKULSX2Y5R07|          5|            0|          0|   N|                Y|\n",
            "|R3UYE0U7SQCI8Q|          5|            2|          3|   N|                Y|\n",
            "|R1TKJ7XFS3RDEB|          5|            0|          1|   N|                Y|\n",
            "|R3S9JNS21QDBXP|          5|            0|          2|   N|                Y|\n",
            "|R2Y4O06QMOGHD0|          5|            2|          3|   N|                Y|\n",
            "|R3PS3P7G1ZT57W|          5|            0|          0|   N|                Y|\n",
            "|R1NFWFM2WWRWPM|          5|            0|          0|   N|                Y|\n",
            "|R3QRIH5CXCXMEL|          4|            4|          6|   N|                Y|\n",
            "| RBCSM1KTYH6FX|          4|            0|          0|   N|                Y|\n",
            "|R2BIWHFIS7X808|          5|            3|          4|   N|                Y|\n",
            "|R2VGNSD09UEW5T|          1|            1|          9|   N|                Y|\n",
            "| RTGC85CCO9EMU|          5|            0|          0|   N|                Y|\n",
            "|R128Q27ZKTLGJ1|          5|            0|          0|   N|                Y|\n",
            "+--------------+-----------+-------------+-----------+----+-----------------+\n",
            "only showing top 20 rows\n",
            "\n"
          ]
        }
      ]
    },
    {
      "cell_type": "code",
      "metadata": {
        "colab": {
          "base_uri": "https://localhost:8080/"
        },
        "id": "1Tt8p_dWFqj-",
        "outputId": "518ee9f5-4bd1-4b96-8c01-d9dc005c95a3"
      },
      "source": [
        "# Step 1. Filter the data and create a new DataFrame where the total_votes count is equal to or greater than 20\n",
        "ttl_g20_vine_df = vine_df.filter(vine_df[\"total_votes\"]>20)\n",
        "ttl_g20_vine_df.show()"
      ],
      "execution_count": 5,
      "outputs": [
        {
          "output_type": "stream",
          "name": "stdout",
          "text": [
            "+--------------+-----------+-------------+-----------+----+-----------------+\n",
            "|     review_id|star_rating|helpful_votes|total_votes|vine|verified_purchase|\n",
            "+--------------+-----------+-------------+-----------+----+-----------------+\n",
            "|R2LX6LJ7BA92OO|          1|           21|         27|   N|                Y|\n",
            "|R3VMEW1JWIXV1E|          1|            2|         26|   N|                N|\n",
            "| R8RBQTRZ32CFG|          1|            0|         29|   N|                Y|\n",
            "|R2612UZ2GU2K29|          5|           25|         32|   N|                Y|\n",
            "|R28X8YI8B00C6S|          4|           52|         63|   N|                Y|\n",
            "|R3O3RDGDHHINF2|          5|           41|         53|   N|                Y|\n",
            "|  RQRAR269EQNP|          2|            7|         35|   N|                Y|\n",
            "|R1FSDCDV0XV3X6|          4|           27|         33|   N|                Y|\n",
            "|R2LK33YEMGHB27|          5|            4|         28|   N|                Y|\n",
            "| RRZXAHEVTT2HC|          5|           69|         92|   N|                Y|\n",
            "|R3AUV7LA2MZTEO|          5|           16|         21|   N|                N|\n",
            "| R3NOR8QP5W657|          1|           15|         29|   N|                N|\n",
            "|R1XM8IQUDFKBQZ|          2|           19|         27|   N|                N|\n",
            "| RZR9JFL71VIHX|          5|           53|         62|   N|                N|\n",
            "| RY8YALKOKA9HZ|          5|           20|         26|   N|                N|\n",
            "| R1DFKOY7DJ215|          1|            2|         31|   N|                N|\n",
            "|R25E3DCOW697YX|          1|            9|         59|   N|                N|\n",
            "|R2JYNRZIJZHTVX|          5|           23|         29|   N|                N|\n",
            "|R3EPKZNBITP1F1|          1|           13|         25|   N|                Y|\n",
            "| RFLV6DD5EZPV2|          1|            4|         31|   N|                N|\n",
            "+--------------+-----------+-------------+-----------+----+-----------------+\n",
            "only showing top 20 rows\n",
            "\n"
          ]
        }
      ]
    },
    {
      "cell_type": "code",
      "metadata": {
        "colab": {
          "base_uri": "https://localhost:8080/"
        },
        "id": "lBzAQM0CGYZ-",
        "outputId": "afb150bf-7331-4ab6-9822-d8124e60418d"
      },
      "source": [
        "# Step 2. Filter the ttl_g20_vine_df and create a new DF where helpful_votes / total_votes >= 50%.\n",
        "helpful_ttl_g20_vine_df = ttl_g20_vine_df.filter((ttl_g20_vine_df[\"helpful_votes\"]/ttl_g20_vine_df[\"total_votes\"]) >=0.5)\n",
        "helpful_ttl_g20_vine_df.show()"
      ],
      "execution_count": 6,
      "outputs": [
        {
          "output_type": "stream",
          "name": "stdout",
          "text": [
            "+--------------+-----------+-------------+-----------+----+-----------------+\n",
            "|     review_id|star_rating|helpful_votes|total_votes|vine|verified_purchase|\n",
            "+--------------+-----------+-------------+-----------+----+-----------------+\n",
            "|R2LX6LJ7BA92OO|          1|           21|         27|   N|                Y|\n",
            "|R2612UZ2GU2K29|          5|           25|         32|   N|                Y|\n",
            "|R28X8YI8B00C6S|          4|           52|         63|   N|                Y|\n",
            "|R3O3RDGDHHINF2|          5|           41|         53|   N|                Y|\n",
            "|R1FSDCDV0XV3X6|          4|           27|         33|   N|                Y|\n",
            "| RRZXAHEVTT2HC|          5|           69|         92|   N|                Y|\n",
            "|R3AUV7LA2MZTEO|          5|           16|         21|   N|                N|\n",
            "| R3NOR8QP5W657|          1|           15|         29|   N|                N|\n",
            "|R1XM8IQUDFKBQZ|          2|           19|         27|   N|                N|\n",
            "| RZR9JFL71VIHX|          5|           53|         62|   N|                N|\n",
            "| RY8YALKOKA9HZ|          5|           20|         26|   N|                N|\n",
            "|R2JYNRZIJZHTVX|          5|           23|         29|   N|                N|\n",
            "|R3EPKZNBITP1F1|          1|           13|         25|   N|                Y|\n",
            "|R3HWCBJM517OB0|          1|           41|         44|   N|                Y|\n",
            "|R34MJKDJLME3AA|          4|           21|         36|   N|                Y|\n",
            "|R2NTMI1V37QS7O|          5|           21|         27|   N|                N|\n",
            "|R288U1K62Z8EVE|          5|           30|         36|   N|                Y|\n",
            "|R2GJU2S0OFHB13|          5|           26|         31|   N|                Y|\n",
            "| RZ6HTFWEYMQXY|          4|           20|         22|   N|                Y|\n",
            "|R1053GVEIEAR5W|          4|           27|         27|   N|                Y|\n",
            "+--------------+-----------+-------------+-----------+----+-----------------+\n",
            "only showing top 20 rows\n",
            "\n"
          ]
        }
      ]
    },
    {
      "cell_type": "code",
      "metadata": {
        "colab": {
          "base_uri": "https://localhost:8080/"
        },
        "id": "eFR7cRB-KN3W",
        "outputId": "eab81d02-b583-4fdc-d992-208571d486d4"
      },
      "source": [
        "# Step 3. Filter the helpful_ttl_g20_vine_df and create a new DF where a review is the Vine program (paid), vine == 'Y'\n",
        "paid_helpful_ttl_g20_vine_df = helpful_ttl_g20_vine_df.filter(helpful_ttl_g20_vine_df[\"vine\"] == \"Y\")\n",
        "paid_helpful_ttl_g20_vine_df.show()"
      ],
      "execution_count": 7,
      "outputs": [
        {
          "output_type": "stream",
          "name": "stdout",
          "text": [
            "+--------------+-----------+-------------+-----------+----+-----------------+\n",
            "|     review_id|star_rating|helpful_votes|total_votes|vine|verified_purchase|\n",
            "+--------------+-----------+-------------+-----------+----+-----------------+\n",
            "|R22SUWPP3KRZT6|          3|           21|         26|   Y|                N|\n",
            "|R30LQPCSI3ELHN|          5|           18|         23|   Y|                N|\n",
            "|R3QIS7D8004AD2|          3|           76|         80|   Y|                N|\n",
            "|R3R6CDRZU5U2XW|          4|           41|         47|   Y|                N|\n",
            "|R16J9CTJQ41IC2|          5|           18|         22|   Y|                N|\n",
            "| RJNGHTZD3NT6F|          3|           30|         35|   Y|                N|\n",
            "|R1QVLVW5QS39ZF|          4|           21|         25|   Y|                N|\n",
            "| R4SMY6Y2J9897|          5|           24|         28|   Y|                N|\n",
            "|R1JKVISEGW1GXV|          5|           37|         41|   Y|                N|\n",
            "|R1ZQ5RKLXUO558|          4|           39|         45|   Y|                N|\n",
            "| R7651GBYAFMDM|          4|           68|         68|   Y|                N|\n",
            "|R355429CV7ZLK5|          5|           25|         27|   Y|                N|\n",
            "|R1G6N679O6URRH|          5|           25|         27|   Y|                N|\n",
            "|R2FZCXWE5YA9U3|          5|           36|         40|   Y|                N|\n",
            "|R1W8PAF1O6ZUSW|          3|           79|         87|   Y|                N|\n",
            "|R3AHH1QHTK6XTN|          2|           13|         24|   Y|                N|\n",
            "|R2R1E8TSVS8XSP|          5|          111|        119|   Y|                N|\n",
            "|R354QNYTK5J21P|          5|           24|         26|   Y|                N|\n",
            "+--------------+-----------+-------------+-----------+----+-----------------+\n",
            "\n"
          ]
        }
      ]
    },
    {
      "cell_type": "code",
      "metadata": {
        "colab": {
          "base_uri": "https://localhost:8080/"
        },
        "id": "ZZXK84msLZz8",
        "outputId": "bdc23236-fec1-4554-9d3c-9b84f66d0347"
      },
      "source": [
        "# Step 4. Repeat Step 3 but with \"vine\" == 'Y'\n",
        "unpaid_helpful_ttl_g20_vine_df = helpful_ttl_g20_vine_df.filter(helpful_ttl_g20_vine_df[\"vine\"] == \"N\")\n",
        "unpaid_helpful_ttl_g20_vine_df.show()"
      ],
      "execution_count": 8,
      "outputs": [
        {
          "output_type": "stream",
          "name": "stdout",
          "text": [
            "+--------------+-----------+-------------+-----------+----+-----------------+\n",
            "|     review_id|star_rating|helpful_votes|total_votes|vine|verified_purchase|\n",
            "+--------------+-----------+-------------+-----------+----+-----------------+\n",
            "|R2LX6LJ7BA92OO|          1|           21|         27|   N|                Y|\n",
            "|R2612UZ2GU2K29|          5|           25|         32|   N|                Y|\n",
            "|R28X8YI8B00C6S|          4|           52|         63|   N|                Y|\n",
            "|R3O3RDGDHHINF2|          5|           41|         53|   N|                Y|\n",
            "|R1FSDCDV0XV3X6|          4|           27|         33|   N|                Y|\n",
            "| RRZXAHEVTT2HC|          5|           69|         92|   N|                Y|\n",
            "|R3AUV7LA2MZTEO|          5|           16|         21|   N|                N|\n",
            "| R3NOR8QP5W657|          1|           15|         29|   N|                N|\n",
            "|R1XM8IQUDFKBQZ|          2|           19|         27|   N|                N|\n",
            "| RZR9JFL71VIHX|          5|           53|         62|   N|                N|\n",
            "| RY8YALKOKA9HZ|          5|           20|         26|   N|                N|\n",
            "|R2JYNRZIJZHTVX|          5|           23|         29|   N|                N|\n",
            "|R3EPKZNBITP1F1|          1|           13|         25|   N|                Y|\n",
            "|R3HWCBJM517OB0|          1|           41|         44|   N|                Y|\n",
            "|R34MJKDJLME3AA|          4|           21|         36|   N|                Y|\n",
            "|R2NTMI1V37QS7O|          5|           21|         27|   N|                N|\n",
            "|R288U1K62Z8EVE|          5|           30|         36|   N|                Y|\n",
            "|R2GJU2S0OFHB13|          5|           26|         31|   N|                Y|\n",
            "| RZ6HTFWEYMQXY|          4|           20|         22|   N|                Y|\n",
            "|R1053GVEIEAR5W|          4|           27|         27|   N|                Y|\n",
            "+--------------+-----------+-------------+-----------+----+-----------------+\n",
            "only showing top 20 rows\n",
            "\n"
          ]
        }
      ]
    },
    {
      "cell_type": "code",
      "metadata": {
        "colab": {
          "base_uri": "https://localhost:8080/"
        },
        "id": "je45nHdKMA6h",
        "outputId": "befa0bbc-4f08-4233-bc55-c0658a1b9dc1"
      },
      "source": [
        "# Step 5.1. Count the total of reviews for paid and unpaid.\n",
        "paid_helpful_ttl_g20_vine = paid_helpful_ttl_g20_vine_df.count()\n",
        "unpaid_helpful_ttl_g20_vine = unpaid_helpful_ttl_g20_vine_df.count()\n",
        "ttl_paid_unpaid_helpful_ttl_g20_vine = paid_helpful_ttl_g20_vine_df.count()+unpaid_helpful_ttl_g20_vine_df.count()\n",
        "print(f'count of paid reviews is {paid_helpful_ttl_g20_vine}, ' \n",
        "      f'count of unpaid is {unpaid_helpful_ttl_g20_vine}, ' \n",
        "      f'ttl is {ttl_paid_unpaid_helpful_ttl_g20_vine}')"
      ],
      "execution_count": 35,
      "outputs": [
        {
          "output_type": "stream",
          "name": "stdout",
          "text": [
            "count of paid reviews is 18, count of unpaid is 7652, ttl is 7670\n"
          ]
        }
      ]
    },
    {
      "cell_type": "code",
      "metadata": {
        "colab": {
          "base_uri": "https://localhost:8080/"
        },
        "id": "joAa6nWIOK5d",
        "outputId": "757d065e-4568-4199-8be1-515b6083def9"
      },
      "source": [
        "# Step 5.2.1. Count the 5-star reviews for paid.\n",
        "star5_paid_helpful_ttl_g20_vine = paid_helpful_ttl_g20_vine_df.filter(paid_helpful_ttl_g20_vine_df[\"star_rating\"] == 5).count()\n",
        "star5_paid_helpful_ttl_g20_vine"
      ],
      "execution_count": 10,
      "outputs": [
        {
          "output_type": "execute_result",
          "data": {
            "text/plain": [
              "9"
            ]
          },
          "metadata": {},
          "execution_count": 10
        }
      ]
    },
    {
      "cell_type": "code",
      "metadata": {
        "colab": {
          "base_uri": "https://localhost:8080/"
        },
        "id": "jwC6aUN4PxI0",
        "outputId": "269af3d3-8ef5-47c2-d731-f3767c6adc7e"
      },
      "source": [
        "# Step 5.2.2. Count the 5-star reviews for unpaid.\n",
        "star5_unpaid_helpful_ttl_g20_vine = unpaid_helpful_ttl_g20_vine_df.filter(unpaid_helpful_ttl_g20_vine_df[\"star_rating\"] == 5).count()\n",
        "star5_unpaid_helpful_ttl_g20_vine"
      ],
      "execution_count": 11,
      "outputs": [
        {
          "output_type": "execute_result",
          "data": {
            "text/plain": [
              "4376"
            ]
          },
          "metadata": {},
          "execution_count": 11
        }
      ]
    },
    {
      "cell_type": "code",
      "metadata": {
        "colab": {
          "base_uri": "https://localhost:8080/"
        },
        "id": "f_txlaHiTD-5",
        "outputId": "c8797055-5d93-4289-9226-d5820a8d9182"
      },
      "source": [
        "# Step 5.2.3. Count the 5-star reviews.\n",
        "star5_paid_unpaid_helpful_ttl_g20_vine = star5_paid_helpful_ttl_g20_vine + star5_unpaid_helpful_ttl_g20_vine\n",
        "star5_paid_unpaid_helpful_ttl_g20_vine"
      ],
      "execution_count": 12,
      "outputs": [
        {
          "output_type": "execute_result",
          "data": {
            "text/plain": [
              "4385"
            ]
          },
          "metadata": {},
          "execution_count": 12
        }
      ]
    },
    {
      "cell_type": "code",
      "metadata": {
        "colab": {
          "base_uri": "https://localhost:8080/"
        },
        "id": "tZOrVYegUBbU",
        "outputId": "33976d55-6918-49ca-d446-1d0c798ccb3b"
      },
      "source": [
        "# Step 5.3. % of 5-star reviews are calculated for \"all 5-star paid\" and \"5-star unpaid\" reviews\n",
        "per_star5_paid_helpful_ttl_g20_vine_2 = (star5_paid_helpful_ttl_g20_vine / star5_paid_unpaid_helpful_ttl_g20_vine) * 100\n",
        "per_star5_unpaid_helpful_ttl_g20_vine_2 = (star5_unpaid_helpful_ttl_g20_vine / star5_paid_unpaid_helpful_ttl_g20_vine) * 100\n",
        "print(f'% of \"5-star paid\" review of \"all 5-star\" reviews is {per_star5_paid_helpful_ttl_g20_vine_2:.1f}%, \\\n",
        "and % of \"5-star unpaid\" review of \"all 5-star\" reviews is {per_star5_unpaid_helpful_ttl_g20_vine_2: .1f}%')"
      ],
      "execution_count": 13,
      "outputs": [
        {
          "output_type": "stream",
          "name": "stdout",
          "text": [
            "% of \"5-star paid\" review of \"all 5-star\" reviews is 0.2%, and % of \"5-star unpaid\" review of \"all 5-star\" reviews is  99.8%\n"
          ]
        }
      ]
    },
    {
      "cell_type": "code",
      "metadata": {
        "colab": {
          "base_uri": "https://localhost:8080/"
        },
        "id": "-Y33EOfKQGf4",
        "outputId": "641e1b4a-5432-4a2b-caf1-913c2de2a8b5"
      },
      "source": [
        "# Step 5.4. % of 5-star reviews are calculated for all Vine or non-Vine reviews\n",
        "per_star5_paid_helpful_ttl_g20_vine = (star5_paid_helpful_ttl_g20_vine / paid_helpful_ttl_g20_vine_df.count()) * 100\n",
        "per_star5_unpaid_helpful_ttl_g20_vine = (star5_unpaid_helpful_ttl_g20_vine / unpaid_helpful_ttl_g20_vine_df.count()) * 100\n",
        "print(f'% of \"5-star paid\" of \"all Vine\" is {per_star5_paid_helpful_ttl_g20_vine:.1f}%, and % of \"5-star unpaid\" of non-Vine is {per_star5_unpaid_helpful_ttl_g20_vine: .1f}')"
      ],
      "execution_count": 14,
      "outputs": [
        {
          "output_type": "stream",
          "name": "stdout",
          "text": [
            "% of \"5-star paid\" of \"all Vine\" is 50.0%, and % of \"5-star unpaid\" of non-Vine is  57.2\n"
          ]
        }
      ]
    },
    {
      "cell_type": "code",
      "metadata": {
        "colab": {
          "base_uri": "https://localhost:8080/"
        },
        "id": "g7MaHL-MjKIZ",
        "outputId": "d2bff19b-89e0-453a-fd61-742dbf5441e5"
      },
      "source": [
        "# Step 5.5. % 5-star reviews are calculated for all Vine and non-Vine reviews\n",
        "per_star5_paid_helpful_ttl_g20_vine = (star5_paid_helpful_ttl_g20_vine / ttl_paid_unpaid_helpful_ttl_g20_vine) * 100\n",
        "per_star5_unpaid_helpful_ttl_g20_vine = (star5_unpaid_helpful_ttl_g20_vine / ttl_paid_unpaid_helpful_ttl_g20_vine) * 100\n",
        "print(f'% of \"5-star paid\" of all reviews is {per_star5_paid_helpful_ttl_g20_vine:.1f}%, and % of \"5-star unpaid\" of all reviews is {per_star5_unpaid_helpful_ttl_g20_vine: .1f}')"
      ],
      "execution_count": 15,
      "outputs": [
        {
          "output_type": "stream",
          "name": "stdout",
          "text": [
            "% of \"5-star paid\" of all reviews is 0.1%, and % of \"5-star unpaid\" of all reviews is  57.1\n"
          ]
        }
      ]
    }
  ]
}